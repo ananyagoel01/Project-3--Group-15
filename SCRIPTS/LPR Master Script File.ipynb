{
 "cells": [
  {
   "cell_type": "code",
   "execution_count": null,
   "metadata": {},
   "outputs": [],
   "source": [
    "# Import Libraries\n",
    "import cv2\n",
    "import pytesseract\n",
    "import re\n",
    "import os \n",
    "from PIL import Image"
   ]
  },
  {
   "cell_type": "code",
   "execution_count": null,
   "metadata": {},
   "outputs": [],
   "source": [
    "# Define Image \n",
    "# This works for single image at a time processing - need to adjust for batches of images\n",
    "#image = '/Users/machome/OneDrive - UVA/DS-3001/data/dc dmv disabled american veteran tags.jpg'\n",
    "\n",
    "#For a batch of images\n",
    "folder_path = \"/Users/machome/OneDrive - UVA/DS-3001/data/Test Run\"\n",
    "\n",
    "# List to store license plate images\n",
    "license_plate_images = []"
   ]
  },
  {
   "cell_type": "code",
   "execution_count": null,
   "metadata": {},
   "outputs": [],
   "source": [
    "# Loop through all files in the folder\n",
    "for filename in os.listdir(folder_path):\n",
    "    # Check if the file is an image (you can adjust the extensions as needed)\n",
    "    if filename.endswith((\".png\", \".jpg\", \".jpeg\", \".gif\")):\n",
    "        # Construct the full path to the image file\n",
    "        image_path = os.path.join(folder_path, filename)\n",
    "        \n",
    "        # Open the image using PIL\n",
    "        try:\n",
    "            with Image.open(image_path) as image:\n",
    "                # Append the image to the list\n",
    "                license_plate_images.append(image.copy())  # Use copy() to avoid closing the original image\n",
    "        except Exception as e:\n",
    "            print(f\"Error processing image {filename}: {e}\")"
   ]
  },
  {
   "cell_type": "code",
   "execution_count": null,
   "metadata": {},
   "outputs": [],
   "source": [
    "# Define PerformOCR Function\n",
    "results=[]\n",
    "def perform_ocr(license_plate_images):\n",
    "    # Perform OCR using pytesseract\n",
    "   \n",
    "    for image in license_plate_images:\n",
    "        try:\n",
    "            text = pytesseract.image_to_string(image)\n",
    "            text = text[slice(0,15)]\n",
    "            results.append(text)\n",
    "        except OSError:\n",
    "            \" \"\n",
    "\n",
    "    return results"
   ]
  },
  {
   "cell_type": "code",
   "execution_count": null,
   "metadata": {},
   "outputs": [],
   "source": [
    "perform_ocr(license_plate_images)"
   ]
  },
  {
   "cell_type": "code",
   "execution_count": null,
   "metadata": {},
   "outputs": [],
   "source": [
    "numbers=[]\n",
    "for text in results:\n",
    "    license_plate_number = re.findall(r'[A-Za-z0-9]', text)\n",
    "    single_string = ''.join(license_plate_number)\n",
    "    numbers.append(single_string)"
   ]
  },
  {
   "cell_type": "code",
   "execution_count": null,
   "metadata": {},
   "outputs": [],
   "source": [
    "# Code for Matching Plate to State Based on No. of Characters\n",
    "m = 0\n",
    "v = 0\n",
    "w = 0\n",
    "d = 0\n",
    "\n",
    "def categorize_state(letters):\n",
    "    global m, v, w, d\n",
    "    # Define the state names and their corresponding letters (can add more states here)\n",
    "    state_names = [\"Virginia\", \"Maryland\", \"Washington D.C.\", \"Deleware\"]\n",
    "    state_letters = {\n",
    "        \"Virginia\": \"VIRGINIA\",\n",
    "        \"Maryland\": \"MARYLAND\",\n",
    "        \"Washington D.C.\": \"WASHINGTONDC\",\n",
    "        \"Deleware\" : \"DELEWARE\"\n",
    "    }\n",
    "    \n",
    "    # Count the number of matches for each state name\n",
    "    matches = {state: sum(l in state_letters[state] for l in letters.upper()) for state in state_names}\n",
    "    \n",
    "    # Find the state with the most matches\n",
    "    max_matches_state = max(matches, key=matches.get)\n",
    "    \n",
    "\n",
    "    # Counter\n",
    "    if max_matches_state == \"Maryland\":\n",
    "        m = m+1\n",
    "    elif max_matches_state == \"Virginia\":\n",
    "        v = v+1\n",
    "    elif max_matches_state == \"Washington D.C.\":\n",
    "        w = w+1\n",
    "    else:\n",
    "        d = d+1\n",
    "    \n",
    "    return max_matches_state"
   ]
  },
  {
   "cell_type": "code",
   "execution_count": null,
   "metadata": {},
   "outputs": [],
   "source": [
    "# Output\n",
    "for single_string in numbers:   \n",
    "    state = categorize_state(single_string)\n",
    "    print(\"The series of letters corresponds to:\", state)"
   ]
  },
  {
   "cell_type": "code",
   "execution_count": null,
   "metadata": {},
   "outputs": [],
   "source": [
    "print(\"Maryland Matches:\", m)\n",
    "print(\"Virginia Matches:\", v)\n",
    "print(\"Washington D.C Matches:\", w)\n",
    "print(\"Deleware:\", d)"
   ]
  }
 ],
 "metadata": {
  "kernelspec": {
   "display_name": "base",
   "language": "python",
   "name": "python3"
  },
  "language_info": {
   "codemirror_mode": {
    "name": "ipython",
    "version": 3
   },
   "file_extension": ".py",
   "mimetype": "text/x-python",
   "name": "python",
   "nbconvert_exporter": "python",
   "pygments_lexer": "ipython3",
   "version": "3.11.4"
  }
 },
 "nbformat": 4,
 "nbformat_minor": 2
}
